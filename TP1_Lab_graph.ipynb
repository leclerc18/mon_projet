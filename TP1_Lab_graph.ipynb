{
  "nbformat": 4,
  "nbformat_minor": 0,
  "metadata": {
    "celltoolbar": "Edit Metadata",
    "kernelspec": {
      "display_name": "Python 3",
      "language": "python",
      "name": "python3"
    },
    "language_info": {
      "codemirror_mode": {
        "name": "ipython",
        "version": 3
      },
      "file_extension": ".py",
      "mimetype": "text/x-python",
      "name": "python",
      "nbconvert_exporter": "python",
      "pygments_lexer": "ipython3",
      "version": "3.7.3"
    },
    "colab": {
      "name": "TP1_Lab_graph.ipynb",
      "provenance": [],
      "include_colab_link": true
    }
  },
  "cells": [
    {
      "cell_type": "markdown",
      "metadata": {
        "id": "view-in-github",
        "colab_type": "text"
      },
      "source": [
        "<a href=\"https://colab.research.google.com/github/leclerc18/mon_projet/blob/master/TP1_Lab_graph.ipynb\" target=\"_parent\"><img src=\"https://colab.research.google.com/assets/colab-badge.svg\" alt=\"Open In Colab\"/></a>"
      ]
    },
    {
      "cell_type": "markdown",
      "metadata": {
        "id": "CZllTJKXl1vP"
      },
      "source": [
        "   # TP Graphes : modéliser un labyrinthe"
      ]
    },
    {
      "cell_type": "markdown",
      "metadata": {
        "id": "lSL7eb6Tl1vd"
      },
      "source": [
        "Considérons le problème suivant : rechercher le chemin le plus long entre deux stations dans le métro.\n",
        "\n",
        "C'est en fait un problème difficile à résoudre sur un gros graphe comme celui du métro. \n",
        "\n",
        "Pour simplifier, nous allons donc considérer un labyrinthe.\n",
        "\n",
        "## 1.  Création d'un labyrinthe\n",
        "\n",
        "Voici l'image d'un labyrinthe, et juste après le graphe associé. <img src=\"petitlab.gif\">"
      ]
    },
    {
      "cell_type": "markdown",
      "metadata": {
        "id": "u4vAONXHl1vf"
      },
      "source": [
        "<img src=\"petit.gif\">\n",
        "\n",
        "\n",
        "\n",
        "**Observations :**  \n",
        "\n",
        "\n",
        "*On a une arête entre deux cases quand elles sont voisines, sauf si il y a une paroi entre elles.* \n",
        "\n",
        "*Ainsi, il n'y a pas d'arête entre les sommets (1,1) et (1,2), mais il y en a une entre (1,1) et (2,1).*\n",
        "\n",
        "\n",
        "**Q1- Implémentation du graphe**\n",
        "\n",
        "On vous donne ci-dessous une implémentation Python d'une classe d'objet graph\n",
        "\n",
        "\n",
        "   - Creez une instance de graphe, nommée labyrinthe, à partir de cette classe\n",
        "\n",
        "   - Ajoutez les sommets (1,1) et (1,2) puis l'arête (1,1),(1,2)"
      ]
    },
    {
      "cell_type": "code",
      "metadata": {
        "id": "N61NGFeql1vg"
      },
      "source": [
        "class graph() :\n",
        "    def __init__(self) :\n",
        "        self.lstAdj={}\n",
        "        \n",
        "    def addSommet(self,sommet):\n",
        "        self.lstAdj[sommet]=[]\n",
        "        \n",
        "    def addArete(self,sa,sb) :\n",
        "        self.lstAdj[sa].append(sb)\n",
        "        self.lstAdj[sb].append(sa)\n",
        "        \n",
        "    def __str__(self):\n",
        "        return str(self.lstAdj)\n",
        "\n",
        "# Réponses\n",
        "# 1) Créez un graphe labyrinthe\n",
        "\n",
        "\n",
        "# 2) Ajoutez les sommets (1,1) et (1,2) puis l'arrête (1,1),(1,2)\n",
        "\n"
      ],
      "execution_count": null,
      "outputs": []
    },
    {
      "cell_type": "code",
      "metadata": {
        "id": "YU7uNKeyl1vi"
      },
      "source": [
        "# test à passer\n",
        "assert labyrinthe.lstAdj[(1,1)] == [(1,2)],\"vous avez fait une erreur...\""
      ],
      "execution_count": null,
      "outputs": []
    },
    {
      "cell_type": "markdown",
      "metadata": {
        "id": "wyE9CrQel1vj"
      },
      "source": [
        "## 2. Ajout des sommets du labyrinthe\n",
        "\n",
        "**Q2 - Entrez tous les sommets.**\n",
        "\n",
        "Vous ne devez pas les entrer un par un, utilisez deux boucles imbriquées."
      ]
    },
    {
      "cell_type": "code",
      "metadata": {
        "id": "NWd09G2Kl1vj"
      },
      "source": [
        "# Réponses\n",
        "\n",
        "\n"
      ],
      "execution_count": null,
      "outputs": []
    },
    {
      "cell_type": "code",
      "metadata": {
        "id": "Q8SYkYgUl1vk"
      },
      "source": [
        "# test à passer\n",
        "assert len(labyrinthe.lstAdj)==32\n",
        "assert (4,8) in labyrinthe.lstAdj.keys()\n",
        "assert (8,4) not in labyrinthe.lstAdj.keys()"
      ],
      "execution_count": null,
      "outputs": []
    },
    {
      "cell_type": "markdown",
      "metadata": {
        "id": "2l-W94yel1vl"
      },
      "source": [
        "## 3. Ajout des arêtes.\n",
        "\n",
        "Comme c'est un peu fastidieux, on vous fourni le code.\n",
        "\n",
        "**Q3 - Vous n'avez plus qu'à l'executer**."
      ]
    },
    {
      "cell_type": "code",
      "metadata": {
        "id": "BuF8q2Wjl1vl"
      },
      "source": [
        "# Executez cette cellule\n",
        "labyrinthe.addArete((1,1),(2,1))\n",
        "labyrinthe.addArete((2,1),(2,2))\n",
        "labyrinthe.addArete((2,2),(2,3))\n",
        "labyrinthe.addArete((2,3),(1,3))\n",
        "labyrinthe.addArete((1,3),(1,4))\n",
        "labyrinthe.addArete((1,4),(1,5))\n",
        "labyrinthe.addArete((1,5),(2,5))\n",
        "labyrinthe.addArete((1,6),(1,7))\n",
        "labyrinthe.addArete((1,7),(1,8))\n",
        "labyrinthe.addArete((2,8),(1,8))\n",
        "\n",
        "labyrinthe.addArete((2,8),(3,8))\n",
        "labyrinthe.addArete((3,8),(4,8))\n",
        "labyrinthe.addArete((4,8),(4,7))\n",
        "labyrinthe.addArete((4,7),(3,7))\n",
        "labyrinthe.addArete((3,7),(2,7))\n",
        "labyrinthe.addArete((2,2),(3,2))\n",
        "labyrinthe.addArete((3,2),(4,2))\n",
        "labyrinthe.addArete((4,2),(4,3))\n",
        "labyrinthe.addArete((4,3),(4,4))\n",
        "labyrinthe.addArete((1,4),(2,4))\n",
        "labyrinthe.addArete((2,4),(3,4))\n",
        "labyrinthe.addArete((3,4),(3,5))\n",
        "labyrinthe.addArete((3,5),(3,6))\n",
        "labyrinthe.addArete((3,6),(4,6))\n",
        "labyrinthe.addArete((4,6),(4,5))\n",
        "labyrinthe.addArete((3,6),(3,7))"
      ],
      "execution_count": null,
      "outputs": []
    },
    {
      "cell_type": "markdown",
      "metadata": {
        "id": "JlnA7j92l1vm"
      },
      "source": [
        "# 4.  Dessin du labyrinthe\n",
        "\n",
        "Là encore on vous fourni le code permettant de visualiser le labyrinthe, via le module Turtle. \n",
        "\n",
        "Il vous reste juste à l'executer.\n",
        "\n",
        "Regardez un peu la fonction *showlabyrinthe*, puis passez à la suite."
      ]
    },
    {
      "cell_type": "code",
      "metadata": {
        "id": "30FiLvanl1vn"
      },
      "source": [
        "import turtle as t\n",
        "\n",
        "def showLabyrinthe(labyrinthe,cote,nli,ncol):\n",
        "  t.delay(0)  # pour un tracé instantané\n",
        "  lab=t.Turtle()\n",
        "  lab.ht()\n",
        "  cadre(nli,ncol,cote)\n",
        "  paroiesVerticales(nli,ncol,cote)\n",
        "  paroiesHorizontales(nli,ncol,cote)\n",
        "\n",
        "\n",
        "  t.exitonclick() # pour sortir proprement\n",
        "  #t.done()\n",
        "  try:          # corrige bug turtle.Ipython\n",
        "    t.bye()   \n",
        "  except t.Terminator:\n",
        "    pass\n",
        "  \n",
        "def cadre(nli,ncol,cote):    #dessin parois extérieures\n",
        "    t.ht()\n",
        "    t.up()\n",
        "    t.goto(-100,100)\n",
        "    t.down()\n",
        "    for _ in range(2):\n",
        "        for i in range(ncol):\n",
        "            t.forward(cote)\n",
        "        t.right(90)\n",
        "        for i in range(nli):\n",
        "            t.forward(cote)\n",
        "        t.right(90)\n",
        "\n",
        "def paroiesVerticales(nli,ncol,dist):    # dessin des parois internes verticales\n",
        "    for i in range(1,nli+1):\n",
        "        for j in range(1,ncol) :\n",
        "            dess=(i,j+1) not in labyrinthe.lstAdj[(i,j)]\n",
        "            if dess :\n",
        "                t.up() ; t.forward(dist) ; t.down()\n",
        "                t.right(90); t.forward(dist) ; t.backward(dist); t.left(90)\n",
        "            else :\n",
        "                t.up()\n",
        "                t.forward(dist)\n",
        "        t.up()\n",
        "        t.goto(-100,100)\n",
        "        t.right(90)\n",
        "        t.forward(dist*i)\n",
        "        t.left(90)\n",
        "\n",
        "def paroiesHorizontales(nli,ncol,cote):     # dessin des parois internes horizontales\n",
        "    t.up()\n",
        "    t.goto(-100,100-cote)\n",
        "    for i in range(1,nli):\n",
        "        for j in range(1,ncol) :\n",
        "            dess=(i+1,j) not in labyrinthe.lstAdj[(i,j)]\n",
        "            if dess :\n",
        "                t.down()\n",
        "                t.forward(cote)\n",
        "            else :\n",
        "                t.up()\n",
        "                t.forward(cote)\n",
        "        t.up()\n",
        "        t.goto(-100,100-cote*(i+1))"
      ],
      "execution_count": null,
      "outputs": []
    },
    {
      "cell_type": "markdown",
      "metadata": {
        "id": "kRHQx2zXl1vq"
      },
      "source": [
        "**Q4 - Appelez la fonction de dessin showLabyrinthe(cote,nli,ncol)**\n",
        "\n",
        "Les paramètres sont respectivement : la longueur des cotés des cases (mettez 50) \n",
        "\n",
        "et les nombres de lignes et colonnes du labyrinthe"
      ]
    },
    {
      "cell_type": "code",
      "metadata": {
        "scrolled": true,
        "id": "Tm8odsiSl1vq"
      },
      "source": [
        "# Réponse:  exécutez le dessin :\n",
        "\n"
      ],
      "execution_count": null,
      "outputs": []
    },
    {
      "cell_type": "markdown",
      "metadata": {
        "id": "Xewtmk-ol1vr"
      },
      "source": [
        "# 5. Dessin du graphe\n",
        "\n",
        "De nouveau on vous fourni un code à executer."
      ]
    },
    {
      "cell_type": "code",
      "metadata": {
        "id": "yPq2vtz9l1vs"
      },
      "source": [
        "# Cellule à executer\n",
        "import turtle as t\n",
        "\n",
        "def drawGraph() :\n",
        "    \n",
        "    t2 = t.Turtle() \n",
        "    t.delay(0)\n",
        "    t2.ht()\n",
        "    t2.speed(10)\n",
        "    t2.penup()\n",
        "    goto(t2,-180,180)\n",
        "    for i in range(1,5) :\n",
        "        for j in range(1,9) :\n",
        "            t2.forward(15)\n",
        "            circle(t2,3)\n",
        "            if (i+1,j) in labyrinthe.lstAdj[(i,j)] :\n",
        "                drawArreteVert(t2)\n",
        "            if (i,j+1) in labyrinthe.lstAdj[(i,j)] :\n",
        "                drawArreteHor(t2)\n",
        "            t2.forward(30)\n",
        "        t2.right(90)\n",
        "        t2.forward(30)\n",
        "        t2.left(90)\n",
        "        t2.backward(45*8)\n",
        "    \n",
        "    t.exitonclick() # pour sortir proprement\n",
        "    #t.done()\n",
        "    try:          # corrige bug turtle.Ipython\n",
        "      t.bye()   \n",
        "    except t.Terminator:\n",
        "      pass\n",
        "\n",
        "def goto(t,x,y):\n",
        "    t.home()\n",
        "    t.penup()\n",
        "    if x>0 :\n",
        "        t.backward(x)\n",
        "    else:\n",
        "        t.forward(x)\n",
        "    if y>0 :\n",
        "        t.right(90)\n",
        "        t.backward(y)\n",
        "        t.left(90)\n",
        "    else:\n",
        "        t.right(90)\n",
        "        t.backward(y)\n",
        "        t.left(90)\n",
        "        \n",
        "def circle(t,l) :\n",
        "    t.pendown()\n",
        "    for i in range (0,18):\n",
        "        t.right(20)\n",
        "        t.forward(l) \n",
        "    t.penup()\n",
        "\n",
        "def drawArreteHor(t):\n",
        "    t.penup()\n",
        "    t.pencolor(\"red\")\n",
        "    t.forward(8)\n",
        "    t.right(90)\n",
        "    t.forward(8)\n",
        "    t.left(90)\n",
        "    t.pendown()\n",
        "    t.forward(25)\n",
        "    t.penup()\n",
        "    t.backward(33)\n",
        "    t.left(90)\n",
        "    t.forward(8)\n",
        "    t.right(90)\n",
        "    t.pencolor(\"black\")\n",
        "    \n",
        "def drawArreteVert(t):\n",
        "        t.pencolor(\"red\")\n",
        "        t.backward(2)\n",
        "        t.right(90)\n",
        "        t.forward(18)\n",
        "        t.pendown()\n",
        "        t.forward(12)\n",
        "        t.penup()\n",
        "        t.backward(30)\n",
        "        t.left(90)\n",
        "        t.forward(2)\n",
        "        t.pencolor(\"black\")  "
      ],
      "execution_count": null,
      "outputs": []
    },
    {
      "cell_type": "code",
      "metadata": {
        "scrolled": true,
        "id": "w2gan_Dkl1vt"
      },
      "source": [
        "# Executer le dessin\n",
        "drawGraph()"
      ],
      "execution_count": null,
      "outputs": []
    },
    {
      "cell_type": "markdown",
      "metadata": {
        "id": "vZgbkwU7l1vt"
      },
      "source": [
        "Vous devriez constater que les arrêtes issues de (2,6) ont été oubliées\n",
        "\n",
        "**Q5 - Ajoutez les arêtes manquantes, ...** \n",
        "\n",
        "*puis redessinnez le graphe et le labyrinthe pour vérifier*"
      ]
    },
    {
      "cell_type": "code",
      "metadata": {
        "id": "R0mleZ-fl1vu"
      },
      "source": [
        "# Réponses\n",
        "\n",
        "\n"
      ],
      "execution_count": null,
      "outputs": []
    },
    {
      "cell_type": "code",
      "metadata": {
        "scrolled": false,
        "id": "t7P-0xxsl1vu"
      },
      "source": [
        "#réexécutez le dessin du labyrinthe:\n",
        "showLabyrinthe(labyrinthe,50,4,8)"
      ],
      "execution_count": null,
      "outputs": []
    },
    {
      "cell_type": "code",
      "metadata": {
        "id": "1A3ZoDGXl1vv"
      },
      "source": [
        "#réexécutez le dessin du graphe:\n",
        "drawGraph()"
      ],
      "execution_count": null,
      "outputs": []
    },
    {
      "cell_type": "markdown",
      "metadata": {
        "id": "U7lF2VVBl1vv"
      },
      "source": [
        "## 6. Applications\n",
        "\n",
        "**Q6 - Quelle instruction permet d'afficher les cases où on peut se rendre si on est en (3,4) ?**  *Vérifier sur le graphe*"
      ]
    },
    {
      "cell_type": "code",
      "metadata": {
        "id": "t0wOuchrl1vv",
        "outputId": "f32802b4-a874-4987-b48d-9150dd05f6a3"
      },
      "source": [
        "# Réponse\n"
      ],
      "execution_count": null,
      "outputs": [
        {
          "output_type": "stream",
          "text": [
            "[(2, 4), (3, 5)]\n"
          ],
          "name": "stdout"
        }
      ]
    },
    {
      "cell_type": "markdown",
      "metadata": {
        "id": "M2qu4UNRl1v0"
      },
      "source": [
        "**Q7- Fonction \"passage\"**\n",
        "\n",
        "Ecrire une fonction passage(case1,case2) qui renvoie True si on peut passer de case1 à case2 et False sinon**"
      ]
    },
    {
      "cell_type": "code",
      "metadata": {
        "id": "HHTl__kNl1v0"
      },
      "source": [
        "# réponse à completer\n",
        "\n",
        "def passage(case1,case2) :\n",
        "    pass"
      ],
      "execution_count": null,
      "outputs": []
    },
    {
      "cell_type": "code",
      "metadata": {
        "id": "Cdl4AJNNl1v2"
      },
      "source": [
        "#tests à passer\n",
        "assert passage((1,2),(2,2)) == False ,\"erreur\"\n",
        "assert passage((2,2),(2,3)) == True ,\"erreur\"\n",
        "assert passage((2,2),(3,3)) == False ,\"erreur\"\n",
        "assert passage((2,2),(2,2)) == False ,\"erreur\"\n",
        "assert passage((2,3),(2,5)) == False ,\"erreur\""
      ],
      "execution_count": null,
      "outputs": []
    }
  ]
}