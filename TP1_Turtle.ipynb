{
 "cells": [
  {
   "cell_type": "markdown",
   "metadata": {},
   "source": [
    "<h1 style = \"text-align : center ; color : black ; border-radius : 10px; border : solid ; padding : 15px ; box-shadow : 5px 5px 5px black ; margin-right : 5px\">      \n",
    "    Découverte de Turtle \n",
    "</h1>"
   ]
  },
  {
   "cell_type": "markdown",
   "metadata": {},
   "source": [
    "On rappelle que dans un notebook Jupyter, les cellules de code dépendent chronologiquement les unes des autres.\n",
    "\n",
    "On execute une cellule en plaçant le curseur dessus puis avec **Crtl+Enter**  ou en cliquant sur **Executer**"
   ]
  },
  {
   "cell_type": "markdown",
   "metadata": {},
   "source": [
    "<h2 style = \"border-radius : 10px; border : solid; padding : 10px ; background-color : #C7F8DC ;box-shadow : 4px 4px 4px black ; margin-right : 5px\">      \n",
    "Partie A : CONFIGURER & DESSINER \n",
    "</h2>\n",
    "\n",
    "Le module Turtle de  Python est adapté de la tortue de Logo, un langage informatique en partie destiné à apprendre en créant. \n",
    "\n",
    "Ce TP vous permettra de découvrir diverses possibilités de création du Turtle,\n",
    "via l’utilisation simple et élargie d’une interface graphique !\n"
   ]
  },
  {
   "cell_type": "markdown",
   "metadata": {},
   "source": [
    "<div style = \"border : solid #C7F8DC ; border-radius : 10px; box-shadow : 2px 2px 2px black ; margin-right : 5px\">\n",
    "<div style = \"background-color : #C7F8DC ; padding : 10px \">\n",
    "<font >\n",
    "<h3> A1 - REGLAGES DE LA FENETRE </h3>\n",
    "</font>\n",
    "</div>\n",
    "\n",
    "- 0n importe le module comme d'habitude.\n",
    "- De manière facultative on peut définir\n",
    "    - le titre ( **title**)\n",
    "    - La position et les dimensions de notre fenêtre  (**setup**)\n",
    "    - la couleur de fond ( **bgcolor**): format (R,G,B), ou \"#hexa\" ou \"texte\"\n",
    "    - pour une image de fond, appliquer la methode **.bgpic(\"image.png\")**\n",
    "      On la supprime avec **.bgpic(\"nopic\")**  \n",
    "     *_Les format png , gif sont reconnus, mais pas bmp, jpg_*\n",
    "\n",
    "- Enfin prévoyez toujours une instruction de fermeture: exitonclick() \n",
    "</div>"
   ]
  },
  {
   "cell_type": "markdown",
   "metadata": {},
   "source": [
    "**Ex A.1. Première fenêtre**\n",
    "\n",
    "Faire afficher une fenêtre nommée Couleurs, de dimensions 300x400,\n",
    "\n",
    "avec un fond rose et l'image couleurs.png  contenue du dossier img."
   ]
  },
  {
   "cell_type": "code",
   "execution_count": 6,
   "metadata": {},
   "outputs": [],
   "source": [
    "import turtle\n",
    "\n",
    "#turtle.title(\"Réglages\")          # le titre\n",
    "#turtle.setup(640, 480, 100, 100)  # Largeur, Hauteur, posx, pos y  en px \n",
    "#turtle.bgcolor(\"#00FF00\")         # Couleur de fond\n",
    "\n",
    "#turtle.exitonclick()"
   ]
  },
  {
   "cell_type": "markdown",
   "metadata": {},
   "source": [
    "<div style = \"border : solid #C7F8DC ; border-radius : 10px; box-shadow : 2px 2px 2px black ; margin-right : 5px\">\n",
    "<div style = \"background-color : #C7F8DC ; padding : 10px \">\n",
    "<font >\n",
    "<h3> A2 - TRACER ET DESSINER </h3>\n",
    "</font>\n",
    "</div>\n",
    "L'origine du repère de la fenêtre est au centre, \n",
    "et c'est l’endroit où le curseur (la tortue) apparaît. \n",
    "\n",
    "Rappelons quelques instructions\n",
    "\n",
    "    - turtle.up() ou turtle.down() # Lever ou baisserle crayon \n",
    "    - hideturtle() et showturtle() # cacher ou montrer le curseur\n",
    "\n",
    "    - turtle.forward () ou fd() # avancer\n",
    "    - turtle.bakward() ou bk()  # reculer\n",
    "    - turtle.goto(x,y)          # aller au point de coordonnées (x,y)\n",
    "    - turtle.setx() ou .sety()  # modifier la coordonnée x ou y de turtle\n",
    "    - turtle.pensize(n)         # Modifier la largeur du trait\n",
    "\n",
    "    - turtle.left() ou turtle.right() # Tourner à gauche ou à droite\n",
    "    - turtle.towards((x,y))           # Donner l'angle pour aller en (x,y)\n",
    "    - turtle.setheading(angle)        # Pointer vers la direction angle. O = droite\n",
    "    - turtle.home()        # Réinitialiser la position et l'angle de la tortue\n",
    "\n",
    "</div>\n",
    "\n",
    "**Ex A2.1: Polygones**\n",
    "\n",
    "Faire tracer un carré, triange équilateral, octogone\n",
    "<img src=\"img/polygones.png\" width=200px> "
   ]
  },
  {
   "cell_type": "code",
   "execution_count": 5,
   "metadata": {},
   "outputs": [],
   "source": [
    "turtle.setup()  #Initialise la fenêtre \n",
    "#longueur_cote = 100\n",
    "#for i in range(4):\n",
    "#    turtle.forward(longueur_cote)  #Côté\n",
    "#    turtle.left(90)  #Angle\n",
    "\n",
    "turtle.exitonclick()"
   ]
  },
  {
   "cell_type": "markdown",
   "metadata": {},
   "source": [
    "<div style = \"border : solid #C7F8DC ; border-radius : 10px; box-shadow : 2px 2px 2px black ; margin-right : 5px\">\n",
    "<div>\n",
    "\n",
    "**Cas du cerle**\n",
    "    \n",
    "- **turtle.circle(r,a, steps=n)**     # trace un cercle de rayon r\n",
    "\n",
    "    En lui passant en plus un angle ( en °) cela tracera un arc de cercle\n",
    "    \n",
    "    On peut aussi préciser un nombre d’étapes( steps), ce qui donne un polygone\n",
    " </div>"
   ]
  },
  {
   "cell_type": "code",
   "execution_count": 40,
   "metadata": {},
   "outputs": [],
   "source": [
    "# Testez ces exemples pour comprendre (décommentez)\n",
    "turtle.setup()\n",
    "#turtle.circle(100)      # Un cercle de rayon 100px\n",
    "#turtle.circle(40, 180)  # Un demi-cercle de rayon 40px\n",
    "#turtle.circle(100, steps = 8)  # Un octogone de rayon 100px\n",
    "#turtle.circle(40, 180, 4)     # Un demi un octogone de rayon 40px\n",
    "turtle.exitonclick()"
   ]
  },
  {
   "cell_type": "markdown",
   "metadata": {},
   "source": [
    "**Ex A2.2 Cercles concentriques**\n",
    "\n",
    "\n",
    "Modifier le programme pour tracer le dessin suivant\n",
    "\n",
    "où le rayon augmente de 20 à chaque nouveau cercle\n",
    "<floatr><img src=\"img/cercles.png\" width=\"300\"/></floatr>\n",
    "\n"
   ]
  },
  {
   "cell_type": "code",
   "execution_count": 10,
   "metadata": {},
   "outputs": [],
   "source": [
    "# réponse\n",
    "rayon = 50\n",
    "turtle.up()\n",
    "turtle.goto(0, -rayon)\n",
    "turtle.down()\n",
    "turtle.circle(rayon)\n",
    "rayon += 20  #Augmente la valeur de rayon\n",
    "\n",
    "turtle.up()\n",
    "turtle.home()\n",
    "turtle.exitonclick()"
   ]
  },
  {
   "cell_type": "markdown",
   "metadata": {},
   "source": [
    "**Ex A2.3 Points de de couleur**\n",
    "\n",
    "    - turtle.dot(r,'c')     # trace un point de rayon r et couleur c\n",
    "    - turtle.pencolor('c')  # défini la couleur d'un trait de couleur\n",
    "    - turtle.colormode(255) # pour choisir le mode (R,V,B )\n",
    "\n",
    "a) Essayez d'obtenir l'affichage comme celui-ci\n",
    "![](points.png)\n"
   ]
  },
  {
   "cell_type": "code",
   "execution_count": 12,
   "metadata": {},
   "outputs": [],
   "source": [
    "import turtle\n",
    "COULEURS = ['black', 'grey', 'brown', 'orange', 'pink', 'purple','red', 'blue', 'yellow', 'green']\n",
    "turtle.setup(500, 100)\n",
    "diametre = 5\n",
    "turtle.up(); turtle.goto( -230 ,0); turtle.down() # se déplacer sans tracer\n",
    "# à completer\n",
    "#\n",
    "#\n",
    "\n",
    "turtle.exitonclick()"
   ]
  },
  {
   "cell_type": "markdown",
   "metadata": {},
   "source": [
    " b)  Puis un dégradé de noir vers le bleu, de gauche à droite.\n",
    " ![](img/bleus.png)\n"
   ]
  },
  {
   "cell_type": "code",
   "execution_count": 14,
   "metadata": {},
   "outputs": [],
   "source": [
    "import turtle\n",
    "LARGEUR, HAUTEUR = 255, 50\n",
    "pos_x = -127  \n",
    "turtle.setup(LARGEUR, HAUTEUR)  \n",
    "turtle.speed(0) ; \n",
    "turtle.colormode(255) # mode RVB\n",
    "turtle.right(90)\n",
    "#for val in range(255):\n",
    "    #\n",
    "    #\n",
    "    #\n",
    "    #\n",
    "turtle.exitonclick()"
   ]
  },
  {
   "cell_type": "markdown",
   "metadata": {},
   "source": [
    "<div style = \"border : solid #C7F8DC ; border-radius : 10px; box-shadow : 2px 2px 2px black ; margin-right : 5px\">\n",
    "<div>\n",
    "\n",
    "**Remplissages**  \n",
    "\n",
    "On se sert des fonctions:  \n",
    "   - **turtle.fillcolor('c')**  # Définir la couleur\n",
    "   - **turtle.beginfill()**     # Commencer à remplir\n",
    "   - **turtle.endfill()**       # Terminer de remplir, et rejoint par défaut le point de départ.\n",
    "\n",
    "Pour remplir de couleur un dessin, il faut suivre un certain ordre: \n",
    "   - Commencer par définir la couleur de remplissage\n",
    "   - Faire le tracé\n",
    "   - Indiquer que le remplissage est fini, après le tracé\n",
    "\n",
    "Remarques\n",
    "   - Ne pas confondre avec la couleur du trait , qui est définie par **pencolor()** !\n",
    "   - Il existe la fonction **color()** qui permet  de faire d’une pierre deux coups: \n",
    "     la couleur de tracé ainsi que la couleur de remplissage. \n",
    "         - turtle.color(\"geen\")            # trait et remplissage verts\n",
    "         - turtle.color(\"green\",\"white\")   # trait vert, et remplisage blanc\n",
    "\n",
    " </div>   "
   ]
  },
  {
   "cell_type": "code",
   "execution_count": 1,
   "metadata": {},
   "outputs": [],
   "source": [
    "# Testez ces exemples pour comrendre, décommentez\n",
    "import turtle\n",
    "\n",
    "turtle.fillcolor(\"red\")  # Défini la couleur de remplissage ( mais le trait reste noir)\n",
    "turtle.begin_fill()      # Début du remplissage\n",
    "for i in range(6):       # Hexagone noir rempli de rouge\n",
    "    turtle.forward(40)\n",
    "    turtle.left(60)\n",
    "turtle.end_fill()        # Fin du remplissage\n",
    "\n",
    "# Demi hexagone blanc rempli de jaune\n",
    "#turtle.pencolor(\"white\")    # Défini la couleur du trait\n",
    "#turtle.fillcolor(\"yellow\")  # Défini la couleur de remplissage\n",
    "#turtle.begin_fill()         # Début de remplissage\n",
    "#for i in range(3):          # Demi hexagone\n",
    "#    turtle.forward(40)\n",
    "#    turtle.left(60)\n",
    "#turtle.end_fill()           #  Fin du remplissage\n",
    "\n",
    "turtle.exitonclick()"
   ]
  },
  {
   "cell_type": "markdown",
   "metadata": {},
   "source": [
    "**Ex A2.4 : TP Coloriage**\n",
    "\n",
    "Le but est de coder le programme permettant d’arriver à l’image ci-dessous (ne vous préoccupez pas des longueurs). \n",
    "\n",
    "Veillez à colorier du plus gros au plus petit afin que le petit ne soit recouvert par le gros à chaque fois.\n",
    "\n",
    "<floatr><img src=\"img/coloriage.png\" width=\"300\"/></floatr>"
   ]
  },
  {
   "cell_type": "code",
   "execution_count": 7,
   "metadata": {},
   "outputs": [],
   "source": [
    "# réponse\n",
    "import turtle\n",
    "turtle.bgcolor(\"orange\")\n",
    " \n",
    "def teleporter_en(x, y):\n",
    "    \"\"\"Déplacer turtle à un point sans tracer\"\"\"\n",
    "    turtle.up();turtle.goto(x, y);turtle.down()\n",
    "    \n",
    "def carre(longueur):\n",
    "    \"\"\" Tracer un carré \"\"\"\n",
    "    for n in range(4):\n",
    "        turtle.forward(longueur)\n",
    "        turtle.left(90)\n",
    "\n",
    "#Le triangle\n",
    "# ...\n",
    "\n",
    "#Le cercle\n",
    "# ...\n",
    "\n",
    "#Les carrés\n",
    "carres = [(\"green\", 250), (\"yellow\", 150), (\"grey\", 50)]\n",
    "#for var_carre in carres:\n",
    "    # ...\n",
    "\n",
    "    \n",
    "    \n",
    "turtle.exitonclick()"
   ]
  },
  {
   "cell_type": "markdown",
   "metadata": {},
   "source": [
    "<h2 style = \"border-radius : 10px; border : solid; padding : 10px ; background-color : #C7F8DC ;box-shadow : 4px 4px 4px black ; margin-right : 5px\">      \n",
    "Partie B : INTERACTIONS , EVEVEMENTS\n",
    "</h2>"
   ]
  },
  {
   "cell_type": "markdown",
   "metadata": {},
   "source": [
    "<div style = \"border : solid #C7F8DC ; border-radius : 10px; box-shadow : 2px 2px 2px black ; margin-right : 5px\">\n",
    "<div style = \"background-color : #C7F8DC ; padding : 10px \">\n",
    "<font > <h3> B1 - ECRITURE A L'ECRAN </h3> </font> </div>\n",
    "\n",
    "\n",
    " On écrit directement dans la fenêtre avec la methode **write()** en lui passant le texte à écrire.\n",
    "\n",
    "- **turtle.write(\"Mon_texte\",align=\"center\", font=(\"Arial,20 ))**\n",
    "\n",
    "    La couleur d’écriture sera celle de tracé,    les autres paramètres sont facultatifs : \n",
    "    - **move(True)** ou **move (False)** # remet le crayon à sa position initiale ou en bas à droite du texte écrit \n",
    "    - **align()** # indique la positions de texte par rapport au du crayon ( \"center\",\"left\" \"right\")\n",
    "    - **font(nom,taille,format)**  #  la police utilisée"
   ]
  },
  {
   "cell_type": "code",
   "execution_count": 8,
   "metadata": {},
   "outputs": [],
   "source": [
    "import turtle\n",
    "turtle.ht()\n",
    "turtle.write(\"Mon_texte\",align=\"center\", font=(\"Arial\",20,\"bold\" ))\n",
    "turtle.exitonclick()"
   ]
  },
  {
   "cell_type": "markdown",
   "metadata": {},
   "source": [
    "**Ex B1 Salade de fruits**\n",
    "\n",
    "Le programme donné affiche aléatoirement les noms des fruits du dictionnaire FRUITS. \n",
    "\n",
    "Complétez le pour que les autres paramétres s'affichent aussi aléatoirement \n",
    "\n",
    "( police, couleur, taille) comme dans l'image donnée\n",
    "\n",
    "<img src=\"img/fruits.png\" width=200px> "
   ]
  },
  {
   "cell_type": "code",
   "execution_count": 31,
   "metadata": {},
   "outputs": [],
   "source": [
    "import turtle\n",
    "from random import choice, randint\n",
    "\n",
    "def teleporter(x, y):\n",
    "    \"\"\"se déplacer à un point sans tracer\"\"\"\n",
    "    turtle.up(); turtle.goto(x, y); turtle.down()\n",
    "\n",
    "ALIGNEMENTS = [\"left\", \"center\", \"right\"]\n",
    "FORMATAGES = [\"normal\", \"bold\", \"italic\", \"underline\"]\n",
    "POLICE=[\"Arial\",\"Times new roman\",\"Tahoma\"]\n",
    "\n",
    "FRUITS = {\"Pamplemousse\" : \"pink\", \"Ananas\" : \"brown\", \"Poire\" : \"lightgreen\", \"Banane\" : \"yellow\", \"Orange\" : \"orange\",\n",
    "            \"Cerise\" : \"red\", \"Mûre\" : \"black\", \"Kiwi\" : \"green\", \"Myrtille\" : \"darkblue\", \"Prune\" : \"violet\"}\n",
    "taille=500\n",
    "turtle.setup(taille+50, taille+50)\n",
    "\n",
    "for fruit, couleur in FRUITS.items(): # Pour chaque (clés,valeurs) du dictionnaire FRUIT\n",
    "    \n",
    "    # Se placer au hasard\n",
    "    teleporter(randint(-taille//3, taille//3),randint(-taille//3, taille//3))\n",
    "    \n",
    "    # Dessine le fruit, avec sa couleur, et un formatage au hasard\n",
    "    #...\n",
    "    turtle.write(fruit, align = \"center\", font = (\"Aria\", 10, \"bold\"))\n",
    "turtle.exitonclick()"
   ]
  },
  {
   "cell_type": "markdown",
   "metadata": {},
   "source": [
    "<div style = \"border : solid #C7F8DC ; border-radius : 10px; box-shadow : 2px 2px 2px black ; margin-right : 5px\">\n",
    "<div>\n",
    "\n",
    "**SAISIE DE L'UTILISATEUR**\n",
    "\n",
    "Pour demander du texte ou des valeurs numériques à l’utilisateur ce sera les fonctions suivantes:\n",
    "\n",
    "   - **turtle.textinput(\"Titre\",\"Quoi ?\")**   # Demande une chaîne de caratères\n",
    "   \n",
    "   - **turtle.numinput(\"Titre\",\"Combien ?\")** # Demande un nombre, renvoi un flottant\n",
    "\n",
    "Remarque :\n",
    "\n",
    "On peut indiquer une valeur n par défaut, une valeur minimum (minval)  ou une valeur maximum (maxval).\n",
    "\n",
    "   - turtle.numinput(\"Titre\",\"Combien ?\", n ,minval=m,maxval=M)\n",
    " </div>"
   ]
  },
  {
   "cell_type": "code",
   "execution_count": 9,
   "metadata": {},
   "outputs": [],
   "source": [
    "# Experimentez librement code suivant\n",
    "import turtle\n",
    "\n",
    "#nom = turtle.textinput(\"Nom\",\" Quel est votre nom ?\")\n",
    "#age=int(turtle.numinput(\"Age\",\" Quel est votre age ?\"))\n",
    "#taille=turtle.numinput(\"Taille\",\" Quel est votre taille en cm ?\",170,minval=50,maxval=250)\n",
    "#print(nom, age,'ans', taille,\"cm\")\n",
    "\n",
    "turtle.exitonclick()"
   ]
  },
  {
   "cell_type": "markdown",
   "metadata": {},
   "source": [
    "<div style = \"border : solid #C7F8DC ; border-radius : 10px; box-shadow : 2px 2px 2px black ; margin-right : 5px\">\n",
    "<div style = \"background-color : #C7F8DC ; padding : 10px \">\n",
    "<font >\n",
    "<h3> B2 - LES EVENEMENTS </h3>\n",
    "</font>\n",
    "</div>\n",
    "\n",
    "- **Un événement**: c'est par exemple l'appui sur une touche du clavier, un clic de souris, tâche programmée, etc ...  .\n",
    "\n",
    "    Concernant les touches du clavier on utilise la fonction **listen()**\n",
    "     \n",
    "      - turte.listen()     # Ecoute et capture les événements du clavier\n",
    "     \n",
    "    \n",
    "- De plus une **boucle infinie** est nécéssaire pour que l'ordinateur surveille l'apparition des évènements\n",
    "   \n",
    "   La **boucle infinie** écoute les interactions jusqu’à ce que l’utilisateur informe qu’il a terminé \n",
    "      - turtle.mainloop()    # Démarre la boucle de surveillance des événements. \n"
   ]
  },
  {
   "cell_type": "code",
   "execution_count": 11,
   "metadata": {},
   "outputs": [],
   "source": [
    "# Voici le squelette de base\n",
    "import turtle\n",
    "# fonctions de gestion des événements\n",
    "\n",
    "turtle.listen()\n",
    "## les évènements\n",
    "##...\n",
    "turtle.mainloop()  "
   ]
  },
  {
   "cell_type": "markdown",
   "metadata": {},
   "source": [
    "<div style = \"border : solid #C7F8DC ; border-radius : 10px; box-shadow : 2px 2px 2px black ; margin-right : 5px\">\n",
    "<div>\n",
    "\n",
    "**LE CLAVIER**\n",
    "\n",
    "- **Premier type d'événements** : Une touche peut être pressée !\n",
    "\n",
    "   C'est la fonction **onkeypress()**  qui permettra de le savoir. \n",
    "   \n",
    "   On doit lui fournir comme paramètres, la fonction à exécuter et le(s) nom(s) de(s) touche(s) associée(s)\n",
    "  \n",
    "    - **turtle.onkeypress(appui,\"a\")**        # La touche A est appuyée\n",
    "    - **turtle.onkeypress(appui)**            # N'importe quelle touche est appuyée\n",
    "    \n",
    "    - **turtle.onkeypress(lambda: appui(n))** # Appliquer une fonction avec argument, pour n'importe quelle touche\n",
    "</div>"
   ]
  },
  {
   "cell_type": "markdown",
   "metadata": {},
   "source": [
    "**Ex B2.1 Clavier**\n",
    "\n",
    " -  Experimentez le programme donné ci dessous\n",
    " -  Complétez les lignes en commentaires, pour que les fonction associées s'appliquent  \n"
   ]
  },
  {
   "cell_type": "code",
   "execution_count": 13,
   "metadata": {},
   "outputs": [],
   "source": [
    "import turtle\n",
    "def appui():\n",
    "    print(\"Touche pressée !\") \n",
    "def appui_sur_a():\n",
    "    print(\"Touche 'a' pressée !\")\n",
    "def repete_S(n):\n",
    "    print(\"YE\"+\"S\"*n+\"!\")\n",
    "    \n",
    "turtle.listen()\n",
    "turtle.onkeypress(appui)  # L'appui sur une touche, est associé à appui()\n",
    "\n",
    "# A compléter et expérimenter\n",
    "#turtle.onkeypress()  # La touche A est associée à appui_sur_a()\n",
    "#turtle.onkeypress()  # La touche S est associée à repete_S()\n",
    "\n",
    "turtle.mainloop()"
   ]
  },
  {
   "cell_type": "markdown",
   "metadata": {},
   "source": [
    "<div style = \"border : solid #C7F8DC ; border-radius : 10px; box-shadow : 2px 2px 2px black ; margin-right : 5px\">\n",
    "<div>\n",
    "\n",
    "- **Second type d'événements** : Une touche peut être rélachée !\n",
    "\n",
    "   C'est la fonction **onkeyrelease()** qui permettra de le savoir\n",
    "   \n",
    "     \n",
    "    - turtle.onkeyrelease(relache,\"a\")      # La touche A est relachée\n",
    "    - turtle.onkeyrelease(lambda: appui(n)) # Pour appliquer une fonction avec argument\n",
    "</div>"
   ]
  },
  {
   "cell_type": "code",
   "execution_count": 26,
   "metadata": {},
   "outputs": [],
   "source": [
    "# Experimentez le code ci-dessous, décommentez.\n",
    "def relache_a():\n",
    "    print(\"Touche 'a' relâchée !\")\n",
    "\n",
    "def relache_haut():\n",
    "    print(\"Touche 'Up' relâchée !\")\n",
    "\n",
    "turtle.listen()\n",
    "#turtle.onkeyrelease(relache_a, \"a\")     #La touche \"A\" est à relache_a\n",
    "#turtle.onkeyrelease(relache_haut, \"Up\")  #La touche \"Haut\" est associée à relachement_haut\n",
    "\n",
    "turtle.mainloop()"
   ]
  },
  {
   "cell_type": "markdown",
   "metadata": {},
   "source": [
    "**Ex B2.2 : Déplacer une balle**\n",
    "\n",
    "Compléter ce code pour déplacer une balle à l’écran, par l’appui sur les flèches du clavier : \"Up\",\"Down\",\"Left\",\"Right\"\n",
    "\n",
    "La touche Espace ( \"space\"), quand elle est relachée, doit réinitialiser la position de la balle.\n"
   ]
  },
  {
   "cell_type": "code",
   "execution_count": 1,
   "metadata": {},
   "outputs": [],
   "source": [
    "import turtle\n",
    "\n",
    "def affiche_point(diametre, couleur):\n",
    "    \"\"\" Effacer, puis afficher la balle au nouvel emplacement\"\"\"\n",
    "    turtle.clear()                                             # Efface\n",
    "    turtle.up(); turtle.goto(coord[0],coord[1]); turtle.down() # teleporte \n",
    "    turtle.dot(diametre, couleur)                              # trace\n",
    "\n",
    "def deplace_x(num = 0):\n",
    "    \"\"\" Changer la coordonnée x de la balle\"\"\"\n",
    "    coord[0]+= num\n",
    "    affiche_point(diametre, couleur)\n",
    "\n",
    "def deplace_y(num = 0):\n",
    "    \"\"\" Changer la coordonnée y de la balle\"\"\"\n",
    "    pass\n",
    "\n",
    "def reinit_pos():\n",
    "    \"\"\" Réinitialiser la position de la balle\"\"\"\n",
    "    pass\n",
    "    \n",
    "\n",
    "# Coeur du programme\n",
    "coord=[0, 0]       # Un objet liste peut être modifié dans une fonction\n",
    "turtle.delay(0)    # Accélère l'affichage, en désactivant le tracé pas à pas.\n",
    "diametre, couleur = 20, 'red'\n",
    "turtle.hideturtle()\n",
    "affiche_point(diametre, couleur)\n",
    "    \n",
    "turtle.listen()                                     \n",
    "turtle.onkeypress(lambda : deplace_x(-10), \"Left\")  #Touche gauche\n",
    "#Touche droite\n",
    "#Touche haut\n",
    "#Touche bas\n",
    "#Touche espace\n",
    "turtle.mainloop()  # Démarrer la boucle d'événements"
   ]
  },
  {
   "cell_type": "markdown",
   "metadata": {},
   "source": [
    "<div style = \"border : solid #C7F8DC ; border-radius : 10px; box-shadow : 2px 2px 2px black ; margin-right : 5px\">\n",
    "<div>\n",
    "\n",
    "**LA SOURIS**\n",
    "\n",
    "En fait vous avez déjà pris en compte l’appui sur un bouton de souris !\n",
    "  \n",
    "Rappelez vous, nous utilisions exitonclick() pour quitter notre programme.\n",
    "\n",
    "- Plus généralement c'est la fonction **onscreenclick()** qu'on emploie pour capturer  un clic de souris.\n",
    "\n",
    "    -**turtle.onscreenclick(fonction)**             # S'il y a clic gauche, appelle la fonction\n",
    "    \n",
    "    -**turtle.onscreenclick(fonction, n ,True)**    # idem + type de bouton + cumul de fonctions\n",
    "    \n",
    "         *n  :permet de préciser le bouton, 1=gauche, 2=centre 3=droit\n",
    "     \n",
    "         *True : permet d'accepter que la fonction s'ajoute à d'autres déjà associées\n",
    "\n",
    "NB : A ne pas confondre avec listen(), qui écoute seulement les évènements du clavier.\n",
    " </div>"
   ]
  },
  {
   "cell_type": "code",
   "execution_count": 3,
   "metadata": {},
   "outputs": [],
   "source": [
    "# A titre d'exemple experimentez ce code ( décommenter)\n",
    "import turtle\n",
    "\n",
    "#turtle.onscreenclick(turtle.goto)  # Se déplace au point cliqué \n",
    "\n",
    "turtle.mainloop()"
   ]
  },
  {
   "cell_type": "code",
   "execution_count": 28,
   "metadata": {},
   "outputs": [],
   "source": [
    "# Experimentez ce code\n",
    "def toto(x, y):\n",
    "    print(\"toto : {}, {}\".format(x, y))\n",
    "    \n",
    "def tata(x, y):\n",
    "    print(\"tata : {}, {}\".format(x, y))\n",
    "\n",
    "#turtle.onscreenclick(toto)  # clic gauche, envoi les coordonnées de toto\n",
    "#turtle.onscreenclick(tata, 3) # clic droit, envoi les coordonnées de tata\n",
    "#turtle.onscreenclick(toto, 3, True) # clic droit, envoie les coord de toto et tata\n",
    "#turtle.onscreenclick(toto, 3, False) # clic droit, envoie les coord de toto mais pas de tata\n",
    "\n",
    "turtle.mainloop()"
   ]
  },
  {
   "cell_type": "markdown",
   "metadata": {},
   "source": [
    "<div style = \"border : solid #C7F8DC ; border-radius : 10px; box-shadow : 2px 2px 2px black ; margin-right : 5px\">\n",
    "<div style = \"background-color : #C7F8DC ; padding : 10px \">\n",
    "<font >\n",
    "<h3> B3 - UTILISATION DE TIMERS </h3>\n",
    "</font>\n",
    "</div>\n",
    "\n",
    "La fonction **ontimer()** permet d'appeler une fonction après un délai (en ms) \n",
    "\n",
    "   - **turtle.ontimer(fonction(),2000)** # Exécute une fonction, sans paramètre, après 2 s\n",
    "\n",
    "\n",
    "On utilise lambda si la fonction nécessite des paramètres\n",
    "\n",
    "   - **turtle.ontimer(lambda: print(\"top\"),2000)** # Execute print(), après 2 s"
   ]
  },
  {
   "cell_type": "markdown",
   "metadata": {},
   "source": [
    "**Ex B3 : Chrono** \n",
    "\n",
    "  - Etudiez le programme ci-dessous, avec ou sans le timer.\n",
    "\n",
    "  - Complétez le pour ajouter les dixièmes de secondes ( ds). \n",
    "  \n",
    "  <float><img src=\"img/timer.png\" width=150px></float>"
   ]
  },
  {
   "cell_type": "code",
   "execution_count": 11,
   "metadata": {},
   "outputs": [],
   "source": [
    "import turtle\n",
    "def affiche_temps():\n",
    "    \"\"\"Affiche le temps écoulé en min / s \"\"\"\n",
    "    turtle.clear()\n",
    "    turtle.write(\"Chrono :\\n| {} min | {} s |\".format(minute, seconde), font=(\"Aria\",20))\n",
    "\n",
    "def gestion_temps():\n",
    "    \"\"\" Augmente les secondes, et formate le temps en min/s \"\"\"\n",
    "    global minute, seconde\n",
    "    seconde += 1\n",
    "    if seconde == 60:\n",
    "        minute += 1\n",
    "        seconde = 0\n",
    "    affiche_temps()\n",
    "    #turtle.ontimer(gestion_temps, 1000)  #Fait appel gestion_temps après 1 s\n",
    "\n",
    "turtle.delay(0)\n",
    "turtle.goto(-200,0)\n",
    "minute = seconde = 0\n",
    "gestion_temps()\n",
    "\n",
    "turtle.exitonclick()"
   ]
  },
  {
   "cell_type": "markdown",
   "metadata": {},
   "source": [
    "Bravo pour être arrivé jusque là, maintenant vous pouvez passer au Mini projet guidé: le jeu des allumettes"
   ]
  }
 ],
 "metadata": {
  "kernelspec": {
   "display_name": "Python 3",
   "language": "python",
   "name": "python3"
  },
  "language_info": {
   "codemirror_mode": {
    "name": "ipython",
    "version": 3
   },
   "file_extension": ".py",
   "mimetype": "text/x-python",
   "name": "python",
   "nbconvert_exporter": "python",
   "pygments_lexer": "ipython3",
   "version": "3.7.3"
  }
 },
 "nbformat": 4,
 "nbformat_minor": 2
}
